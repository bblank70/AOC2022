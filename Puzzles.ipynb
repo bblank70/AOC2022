{
 "cells": [
  {
   "cell_type": "markdown",
   "metadata": {},
   "source": [
    "# 2022 Advent Of Code"
   ]
  },
  {
   "cell_type": "markdown",
   "metadata": {},
   "source": [
    "## December 1:\n"
   ]
  },
  {
   "cell_type": "markdown",
   "metadata": {},
   "source": [
    "### Part 1: The calories carried by the elf carrying the most calories\n"
   ]
  },
  {
   "cell_type": "code",
   "execution_count": 180,
   "metadata": {},
   "outputs": [
    {
     "data": {
      "text/plain": [
       "71934"
      ]
     },
     "execution_count": 180,
     "metadata": {},
     "output_type": "execute_result"
    }
   ],
   "source": [
    "import numpy as np\n",
    "import pandas as pd\n",
    "\n",
    "\n",
    "with open('Day1.txt') as f:\n",
    "    lines = f.readlines()\n",
    "readback = []\n",
    "\n",
    "elf_rations = {}\n",
    "count = 0\n",
    "lines.insert(0,'\\n')\n",
    "for line in lines:\n",
    "    if line  not in ['\\n']:\n",
    "        try:\n",
    "            calories = elf_rations.get(count)\n",
    "            calories = list(calories)\n",
    "            calories.append(int(line))\n",
    "            elf_rations[count] = calories\n",
    "            readback.append(line)\n",
    "        except:\n",
    "            try:\n",
    "                calories =int(line)\n",
    "                elf_rations[count] = calories\n",
    "                readback.append('test')\n",
    "            except:\n",
    "                calories = line\n",
    "                elf_rations[count] = calories\n",
    "                readback.append('test')\n",
    "    else:\n",
    "        try:\n",
    "            count +=1\n",
    "            calories=int(line)\n",
    "            elf_rations[count] = calories\n",
    "            readback.append(line)\n",
    "        except:\n",
    "            calories= line\n",
    "            elf_rations[count] = calories\n",
    "            readback.append(line)\n",
    "\n",
    "TotalElfRations = {}\n",
    "\n",
    "for elf in elf_rations.keys():\n",
    "    rations = elf_rations.get(elf)\n",
    "    rations[0] = 0\n",
    "    rations = sum(rations)\n",
    "    TotalElfRations[elf] = rations\n",
    "\n",
    "    \n",
    "TotalElfRations.get(max(TotalElfRations, key=TotalElfRations.get))\n"
   ]
  },
  {
   "cell_type": "markdown",
   "metadata": {},
   "source": [
    "### Part 2. The total calories carried by the top n elves"
   ]
  },
  {
   "cell_type": "code",
   "execution_count": 184,
   "metadata": {},
   "outputs": [
    {
     "name": "stdout",
     "output_type": "stream",
     "text": [
      "the total calories carried by the top 3 elves is: 205693\n"
     ]
    }
   ],
   "source": [
    "elves = 3\n",
    "n = elves\n",
    "RationDict = {}\n",
    "\n",
    "\n",
    "while n != 0:\n",
    "    elf = max(TotalElfRations, key=TotalElfRations.get)\n",
    "    ration = TotalElfRations.get(max(TotalElfRations, key=TotalElfRations.get))\n",
    "    TotalElfRations.pop(elf)\n",
    "    RationDict[elf] = ration\n",
    "    n -= 1\n",
    "print('the total calories carried by the top', elves, 'elves is/are:', sum(RationDict.values()))"
   ]
  },
  {
   "cell_type": "code",
   "execution_count": 179,
   "metadata": {},
   "outputs": [
    {
     "data": {
      "text/plain": [
       "211447"
      ]
     },
     "execution_count": 179,
     "metadata": {},
     "output_type": "execute_result"
    }
   ],
   "source": []
  },
  {
   "cell_type": "code",
   "execution_count": 58,
   "metadata": {},
   "outputs": [
    {
     "data": {
      "text/plain": [
       "['4035\\n', '10596\\n', '17891\\n', '5278\\n', '\\n']"
      ]
     },
     "execution_count": 58,
     "metadata": {},
     "output_type": "execute_result"
    }
   ],
   "source": [
    "lines[:5]"
   ]
  },
  {
   "cell_type": "code",
   "execution_count": 37,
   "metadata": {},
   "outputs": [
    {
     "data": {
      "text/plain": [
       "{1: 5278,\n",
       " 2: 6649,\n",
       " 3: 13494,\n",
       " 4: 9091,\n",
       " 5: 1054,\n",
       " 6: 6747,\n",
       " 7: 2163,\n",
       " 8: 9967,\n",
       " 9: 6354,\n",
       " 10: 16768,\n",
       " 11: 9892,\n",
       " 12: 16343,\n",
       " 13: 3356,\n",
       " 14: 5547,\n",
       " 15: 4884,\n",
       " 16: 6332,\n",
       " 17: 4586,\n",
       " 18: 29197,\n",
       " 19: 8956,\n",
       " 20: 3033,\n",
       " 21: 2075,\n",
       " 22: 7695,\n",
       " 23: 3569,\n",
       " 24: 54097,\n",
       " 25: 5282,\n",
       " 26: 10745,\n",
       " 27: 69849,\n",
       " 28: 17958,\n",
       " 29: 15791,\n",
       " 30: 4158,\n",
       " 31: 2806,\n",
       " 32: 4250,\n",
       " 33: 3580,\n",
       " 34: 3800,\n",
       " 35: 1662,\n",
       " 36: 6890,\n",
       " 37: 3024,\n",
       " 38: 7323,\n",
       " 39: 14826,\n",
       " 40: 8552,\n",
       " 41: 32789,\n",
       " 42: 2513,\n",
       " 43: 11981,\n",
       " 44: 5444,\n",
       " 45: 11238,\n",
       " 46: 4365,\n",
       " 47: 20013,\n",
       " 48: 5451,\n",
       " 49: 2944,\n",
       " 50: 3456,\n",
       " 51: 1609,\n",
       " 52: 8421,\n",
       " 53: 45752,\n",
       " 54: 9017,\n",
       " 55: 1284,\n",
       " 56: 3853,\n",
       " 57: 9907,\n",
       " 58: 2236,\n",
       " 59: 3569,\n",
       " 60: 5180,\n",
       " 61: 13631,\n",
       " 62: 3248,\n",
       " 63: 4563,\n",
       " 64: 2603,\n",
       " 65: 11444,\n",
       " 66: 10454,\n",
       " 67: 1008,\n",
       " 68: 2400,\n",
       " 69: 5243,\n",
       " 70: 4604,\n",
       " 71: 2437,\n",
       " 72: 1605,\n",
       " 73: 5667,\n",
       " 74: 3122,\n",
       " 75: 16839,\n",
       " 76: 9232,\n",
       " 77: 17935,\n",
       " 78: 5494,\n",
       " 79: 1989,\n",
       " 80: 8574,\n",
       " 81: 6421,\n",
       " 82: 4411,\n",
       " 83: 60042,\n",
       " 84: 4919,\n",
       " 85: 21040,\n",
       " 86: 3488,\n",
       " 87: 6176,\n",
       " 88: 5004,\n",
       " 89: 10705,\n",
       " 90: 3872,\n",
       " 91: 6027,\n",
       " 92: 16218,\n",
       " 93: 18041,\n",
       " 94: 5419,\n",
       " 95: 6907,\n",
       " 96: 4886,\n",
       " 97: 4975,\n",
       " 98: 2507,\n",
       " 99: 6060,\n",
       " 100: 12026,\n",
       " 101: 2020,\n",
       " 102: 2783,\n",
       " 103: 51115,\n",
       " 104: 8466,\n",
       " 105: 1428,\n",
       " 106: 3453,\n",
       " 107: 20862,\n",
       " 108: 2023,\n",
       " 109: 6631,\n",
       " 110: 9374,\n",
       " 111: 1234,\n",
       " 112: 5633,\n",
       " 113: 5634,\n",
       " 114: 7476,\n",
       " 115: 1341,\n",
       " 116: 4291,\n",
       " 117: 1640,\n",
       " 118: 8139,\n",
       " 119: 2203,\n",
       " 120: 14050,\n",
       " 121: 7852,\n",
       " 122: 4183,\n",
       " 123: 1027,\n",
       " 124: 3445,\n",
       " 125: 5762,\n",
       " 126: 2596,\n",
       " 127: 10938,\n",
       " 128: 16354,\n",
       " 129: 2483,\n",
       " 130: 6588,\n",
       " 131: 44479,\n",
       " 132: 11483,\n",
       " 133: 5381,\n",
       " 134: 1866,\n",
       " 135: 1237,\n",
       " 136: 3442,\n",
       " 137: 5188,\n",
       " 138: 67988,\n",
       " 139: 2202,\n",
       " 140: 54373,\n",
       " 141: 7166,\n",
       " 142: 4067,\n",
       " 143: 1827,\n",
       " 144: 1013,\n",
       " 145: 23711,\n",
       " 146: 28857,\n",
       " 147: 41068,\n",
       " 148: 1334,\n",
       " 149: 9984,\n",
       " 150: 2936,\n",
       " 151: 23201,\n",
       " 152: 4235,\n",
       " 153: 6280,\n",
       " 154: 2433,\n",
       " 155: 5806,\n",
       " 156: 17531,\n",
       " 157: 2933,\n",
       " 158: 25331,\n",
       " 159: 13079,\n",
       " 160: 2029,\n",
       " 161: 16997,\n",
       " 162: 23767,\n",
       " 163: 6069,\n",
       " 164: 5364,\n",
       " 165: 7195,\n",
       " 166: 2570,\n",
       " 167: 7294,\n",
       " 168: 9098,\n",
       " 169: 3341,\n",
       " 170: 5392,\n",
       " 171: 4226,\n",
       " 172: 9501,\n",
       " 173: 1129,\n",
       " 174: 7234,\n",
       " 175: 6801,\n",
       " 176: 4038,\n",
       " 177: 7226,\n",
       " 178: 3860,\n",
       " 179: 4608,\n",
       " 180: 8125,\n",
       " 181: 3843,\n",
       " 182: 12464,\n",
       " 183: 9315,\n",
       " 184: 4728,\n",
       " 185: 9797,\n",
       " 186: 5229,\n",
       " 187: 7357,\n",
       " 188: 3886,\n",
       " 189: 6055,\n",
       " 190: 11656,\n",
       " 191: 9218,\n",
       " 192: 4513,\n",
       " 193: 5990,\n",
       " 194: 12505,\n",
       " 195: 3089,\n",
       " 196: 4596,\n",
       " 197: 12739,\n",
       " 198: 4478,\n",
       " 199: 5742,\n",
       " 200: 6102,\n",
       " 201: 4470,\n",
       " 202: 5065,\n",
       " 203: 32663,\n",
       " 204: 11008,\n",
       " 205: 65929,\n",
       " 206: 52792,\n",
       " 207: 4997,\n",
       " 208: 6892,\n",
       " 209: 9298,\n",
       " 210: 3022,\n",
       " 211: 1823,\n",
       " 212: 3508,\n",
       " 213: 18525,\n",
       " 214: 5653,\n",
       " 215: 9480,\n",
       " 216: 8454,\n",
       " 217: 1274,\n",
       " 218: 5381,\n",
       " 219: 46202,\n",
       " 220: 3500,\n",
       " 221: 21346,\n",
       " 222: 10897,\n",
       " 223: 8243,\n",
       " 224: 2608,\n",
       " 225: 5345,\n",
       " 226: 5052,\n",
       " 227: 1916,\n",
       " 228: 3704,\n",
       " 229: 2379,\n",
       " 230: 8213,\n",
       " 231: 10152,\n",
       " 232: 1220,\n",
       " 233: 2799,\n",
       " 234: 2786,\n",
       " 235: 4747,\n",
       " 236: 8863,\n",
       " 237: 4859,\n",
       " 238: 5815,\n",
       " 239: 11453,\n",
       " 240: 2199,\n",
       " 241: 1117,\n",
       " 242: 31966,\n",
       " 243: 1702,\n",
       " 244: 9739,\n",
       " 245: 7012,\n",
       " 246: 18452,\n",
       " 247: 4496,\n",
       " 248: 4222,\n",
       " 249: 11473,\n",
       " 250: 5867,\n",
       " 251: 1895}"
      ]
     },
     "execution_count": 37,
     "metadata": {},
     "output_type": "execute_result"
    }
   ],
   "source": [
    "\n",
    "elf_rations"
   ]
  },
  {
   "cell_type": "code",
   "execution_count": 15,
   "metadata": {},
   "outputs": [
    {
     "data": {
      "text/plain": [
       "'1895'"
      ]
     },
     "execution_count": 15,
     "metadata": {},
     "output_type": "execute_result"
    }
   ],
   "source": [
    "lines[-1]"
   ]
  }
 ],
 "metadata": {
  "kernelspec": {
   "display_name": "Python 3.9.13 ('base')",
   "language": "python",
   "name": "python3"
  },
  "language_info": {
   "codemirror_mode": {
    "name": "ipython",
    "version": 3
   },
   "file_extension": ".py",
   "mimetype": "text/x-python",
   "name": "python",
   "nbconvert_exporter": "python",
   "pygments_lexer": "ipython3",
   "version": "3.9.13"
  },
  "orig_nbformat": 4,
  "vscode": {
   "interpreter": {
    "hash": "b169066c53d3b02e55c0355bc483c347351cbe20a03b502bbeddcbe337d0d727"
   }
  }
 },
 "nbformat": 4,
 "nbformat_minor": 2
}
