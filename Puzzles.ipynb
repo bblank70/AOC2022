{
 "cells": [
  {
   "cell_type": "markdown",
   "metadata": {},
   "source": [
    "# 2022 Advent Of Code"
   ]
  },
  {
   "cell_type": "markdown",
   "metadata": {},
   "source": [
    "## December 3: "
   ]
  },
  {
   "cell_type": "markdown",
   "metadata": {},
   "source": [
    "Part1: Total priority"
   ]
  },
  {
   "cell_type": "code",
   "execution_count": 1,
   "metadata": {},
   "outputs": [],
   "source": [
    "from collections import Counter\n",
    "import itertools\n",
    "with open('Day3.txt') as f:\n",
    "    lines = f.readlines()\n",
    "    "
   ]
  },
  {
   "cell_type": "code",
   "execution_count": 2,
   "metadata": {},
   "outputs": [
    {
     "name": "stdout",
     "output_type": "stream",
     "text": [
      "The cumulative priority is: 7701\n"
     ]
    }
   ],
   "source": [
    "line_duplicates = {}\n",
    "index = 0\n",
    "for line in lines:\n",
    "    if index == len(lines)-1:\n",
    "        half = int(len(line)/2)\n",
    "        exploded = [*line]\n",
    "        firsth =exploded[:half]\n",
    "        lasth = exploded[half:]\n",
    "        firstC = Counter(firsth)\n",
    "        lastC= Counter(lasth)\n",
    "        firstKeys = set(list(firstC.keys()))\n",
    "        lastKeys = set(list(lastC.keys()))\n",
    "        match = firstKeys.intersection(lastKeys)\n",
    "        match = list(itertools.chain(*match))\n",
    "        line_duplicates[index] = match\n",
    "    else:\n",
    "        length = len(line)\n",
    "        exploded = [*line]\n",
    "        exploded.pop()\n",
    "        half = int(len(line)/2)\n",
    "        firsth =exploded[:half]\n",
    "        lasth = exploded[half:]\n",
    "        firstC = Counter(firsth)\n",
    "        lastC= Counter(lasth)\n",
    "        firstKeys = set(list(firstC.keys()))\n",
    "        lastKeys = set(list(lastC.keys()))\n",
    "        match = firstKeys.intersection(lastKeys)\n",
    "        match = list(itertools.chain(*match))\n",
    "        line_duplicates[index] = match\n",
    "        index+=1\n",
    "\n",
    "priority = []\n",
    "letterlist = [v for v in line_duplicates.values()]\n",
    "for d in letterlist:\n",
    "    if str.lower(d[0]) == d[0]:\n",
    "        priority.append(ord(d[0])-96)\n",
    "    else:\n",
    "        priority.append(ord(str.lower(d[0]))-96+26)\n",
    "print('The cumulative priority is:',sum(priority))\n"
   ]
  },
  {
   "cell_type": "markdown",
   "metadata": {},
   "source": [
    "### Part 2: group 3 lines together; find common letter/item and get the priority for that group; sum all group priorities"
   ]
  },
  {
   "cell_type": "code",
   "execution_count": 3,
   "metadata": {},
   "outputs": [
    {
     "name": "stdout",
     "output_type": "stream",
     "text": [
      "The cumulative priority is: 2644\n"
     ]
    }
   ],
   "source": [
    "from collections import Counter\n",
    "import itertools\n",
    "with open('Day3.txt') as f:\n",
    "    lines = f.read().splitlines() \n",
    "\n",
    "iteration = 0\n",
    "intersection_dict = {}\n",
    "while len(lines) > 1:\n",
    "        \n",
    "    grouping = lines[:3]\n",
    "    exp1 = Counter([*grouping[0]])\n",
    "    exp2 = Counter([*grouping[1]])\n",
    "    exp3 = Counter([*grouping[2]])\n",
    "\n",
    "    Kexp1 = set(list(exp1.keys()))\n",
    "    Kexp2 = set(list(exp2.keys()))\n",
    "    Kexp3 = set(list(exp3.keys()))\n",
    "        \n",
    "    match = Kexp1.intersection(Kexp2.intersection(Kexp3))\n",
    "    intersection_dict[iteration] = list(match)\n",
    "    del lines[:3]\n",
    "    iteration +=1\n",
    "intersection_dict\n",
    "\n",
    "priority = []\n",
    "letterlist = [v for v in intersection_dict.values()]\n",
    "for d in letterlist:\n",
    "    if str.lower(d[0]) == d[0]:\n",
    "        priority.append(ord(d[0])-96)\n",
    "    else:\n",
    "        priority.append(ord(str.lower(d[0]))-96+26)\n",
    "print('The cumulative priority is:',sum(priority))"
   ]
  },
  {
   "cell_type": "markdown",
   "metadata": {},
   "source": [
    "# December 2"
   ]
  },
  {
   "cell_type": "markdown",
   "metadata": {},
   "source": [
    "### Part 1: What is the cumulative score X=rock, Y=paper, Z=scisor"
   ]
  },
  {
   "cell_type": "code",
   "execution_count": 4,
   "metadata": {},
   "outputs": [],
   "source": [
    "import pandas as pd\n",
    "games = pd.read_csv('Day2.txt', delimiter=' ', header=None)\n",
    "matches = {'A':'X', 'B': 'Y', 'C': 'Z'}\n",
    "loser = {'A':'Z', 'B': 'X', 'C': 'Y'}\n",
    "points = {'X':1, 'Y': 2, 'Z':3}\n",
    "actual = {'X' : 0, 'Y' : 3, 'Z' : 6}\n",
    "outcome = []\n",
    "for i in games.iterrows():\n",
    "    opponent = i[1][0]\n",
    "    us = i[1][1]\n",
    "    if matches.get(opponent) == us:\n",
    "        outcome.append(3)\n",
    "    elif loser.get(i[1][0]) == us:\n",
    "        outcome.append(0)\n",
    "    else:\n",
    "        outcome.append(6)\n",
    "\n",
    "games['Outcome'] = outcome\n",
    "throws = list(games[1])\n",
    "wagers = [points.get(throw) for throw in throws]\n",
    "games['Wagers'] = wagers\n",
    "games['Net'] = games['Outcome'] + games ['Wagers']"
   ]
  },
  {
   "cell_type": "code",
   "execution_count": 5,
   "metadata": {},
   "outputs": [
    {
     "name": "stdout",
     "output_type": "stream",
     "text": [
      "My net score after all rounds is: 12535\n"
     ]
    }
   ],
   "source": [
    "print('My net score after all rounds is:',sum(list(games.Net)))"
   ]
  },
  {
   "cell_type": "markdown",
   "metadata": {},
   "source": [
    "### Part 2: rule change X=lose, Y=draw, Z=win\n"
   ]
  },
  {
   "cell_type": "code",
   "execution_count": 6,
   "metadata": {},
   "outputs": [
    {
     "name": "stdout",
     "output_type": "stream",
     "text": [
      "our new net score (after the rule change) is: 15457\n"
     ]
    }
   ],
   "source": [
    "games = pd.read_csv('Day2.txt', delimiter=' ', header=None)\n",
    "actual = {'X': 0, 'Y' : 3, 'Z' : 6}\n",
    "beats = {'A': 'C', 'B':'A', 'C': 'B'}\n",
    "loses = {'C': 'A', 'A':'B', 'B': 'C'}\n",
    "pts = {'A':1, 'B': 2, 'C': 3}\n",
    "outcome = []\n",
    "choices = []\n",
    "wagers = []\n",
    "for i in games.iterrows():\n",
    "    opponent = i[1][0]\n",
    "    us = i[1][1]\n",
    "    status = actual.get(us)\n",
    "    outcome.append(status)\n",
    "    if status == 0:\n",
    "        choice = beats.get(opponent)\n",
    "        choices.append(choice)\n",
    "        wager = pts.get(choice)\n",
    "        wagers.append(wager)\n",
    "    elif status == 3:\n",
    "        choice = opponent\n",
    "        choices.append(choice)\n",
    "        wager = pts.get(choice)\n",
    "        wagers.append(wager)\n",
    "    else:\n",
    "        choice = loses.get(opponent)\n",
    "        choices.append(choice)\n",
    "        wager = pts.get(choice)\n",
    "        wagers.append(wager)\n",
    "games['outcome']= outcome\n",
    "games['choice'] = choices\n",
    "games['wager'] = wagers\n",
    "games['NetTotal'] = games.outcome+games.wager\n",
    "print('our new net score (after the rule change) is:',sum(list(games.NetTotal)))"
   ]
  },
  {
   "cell_type": "markdown",
   "metadata": {},
   "source": [
    "## December 1:\n"
   ]
  },
  {
   "cell_type": "markdown",
   "metadata": {},
   "source": [
    "### Part 1: The calories carried by the elf carrying the most calories\n"
   ]
  },
  {
   "cell_type": "code",
   "execution_count": 7,
   "metadata": {},
   "outputs": [
    {
     "name": "stdout",
     "output_type": "stream",
     "text": [
      "The elf carrying the most calories caries: 71934 calories\n"
     ]
    }
   ],
   "source": [
    "\n",
    "\n",
    "with open('Day1.txt') as f:\n",
    "    lines = f.readlines()\n",
    "readback = []\n",
    "\n",
    "elf_rations = {}\n",
    "count = 0\n",
    "lines.insert(0,'\\n')\n",
    "for line in lines:\n",
    "    if line  not in ['\\n']:\n",
    "        try:\n",
    "            calories = elf_rations.get(count)\n",
    "            calories = list(calories)\n",
    "            calories.append(int(line))\n",
    "            elf_rations[count] = calories\n",
    "            readback.append(line)\n",
    "        except:\n",
    "            try:\n",
    "                calories =int(line)\n",
    "                elf_rations[count] = calories\n",
    "                readback.append('test')\n",
    "            except:\n",
    "                calories = line\n",
    "                elf_rations[count] = calories\n",
    "                readback.append('test')\n",
    "    else:\n",
    "        try:\n",
    "            count +=1\n",
    "            calories=int(line)\n",
    "            elf_rations[count] = calories\n",
    "            readback.append(line)\n",
    "        except:\n",
    "            calories= line\n",
    "            elf_rations[count] = calories\n",
    "            readback.append(line)\n",
    "\n",
    "TotalElfRations = {}\n",
    "\n",
    "for elf in elf_rations.keys():\n",
    "    rations = elf_rations.get(elf)\n",
    "    rations[0] = 0\n",
    "    rations = sum(rations)\n",
    "    TotalElfRations[elf] = rations\n",
    "\n",
    "    \n",
    "print('The elf carrying the most calories caries:', TotalElfRations.get(max(TotalElfRations, key=TotalElfRations.get)), 'calories')\n"
   ]
  },
  {
   "cell_type": "markdown",
   "metadata": {},
   "source": [
    "### Part 2. The total calories carried by the top n elves"
   ]
  },
  {
   "cell_type": "code",
   "execution_count": 8,
   "metadata": {},
   "outputs": [
    {
     "name": "stdout",
     "output_type": "stream",
     "text": [
      "the total calories carried by the top 3 elves is/are: 211447\n"
     ]
    }
   ],
   "source": [
    "elves = 3\n",
    "n = elves\n",
    "RationDict = {}\n",
    "\n",
    "\n",
    "while n != 0:\n",
    "    elf = max(TotalElfRations, key=TotalElfRations.get)\n",
    "    ration = TotalElfRations.get(max(TotalElfRations, key=TotalElfRations.get))\n",
    "    TotalElfRations.pop(elf)\n",
    "    RationDict[elf] = ration\n",
    "    n -= 1\n",
    "print('the total calories carried by the top', elves, 'elves is/are:', sum(RationDict.values()))"
   ]
  }
 ],
 "metadata": {
  "kernelspec": {
   "display_name": "Python 3.9.13 ('base')",
   "language": "python",
   "name": "python3"
  },
  "language_info": {
   "codemirror_mode": {
    "name": "ipython",
    "version": 3
   },
   "file_extension": ".py",
   "mimetype": "text/x-python",
   "name": "python",
   "nbconvert_exporter": "python",
   "pygments_lexer": "ipython3",
   "version": "3.9.13"
  },
  "orig_nbformat": 4,
  "vscode": {
   "interpreter": {
    "hash": "b169066c53d3b02e55c0355bc483c347351cbe20a03b502bbeddcbe337d0d727"
   }
  }
 },
 "nbformat": 4,
 "nbformat_minor": 2
}
