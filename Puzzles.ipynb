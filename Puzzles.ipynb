{
 "cells": [
  {
   "cell_type": "markdown",
   "metadata": {},
   "source": [
    "# 2022 Advent Of Code"
   ]
  },
  {
   "cell_type": "markdown",
   "metadata": {},
   "source": [
    "## December 1:\n"
   ]
  },
  {
   "cell_type": "markdown",
   "metadata": {},
   "source": [
    "### Part 1: The calories carried by the elf carrying the most calories\n"
   ]
  },
  {
   "cell_type": "code",
   "execution_count": 190,
   "metadata": {},
   "outputs": [
    {
     "name": "stdout",
     "output_type": "stream",
     "text": [
      "The elf carrying the most calories caries: 71934 calories\n"
     ]
    }
   ],
   "source": [
    "\n",
    "\n",
    "with open('Day1.txt') as f:\n",
    "    lines = f.readlines()\n",
    "readback = []\n",
    "\n",
    "elf_rations = {}\n",
    "count = 0\n",
    "lines.insert(0,'\\n')\n",
    "for line in lines:\n",
    "    if line  not in ['\\n']:\n",
    "        try:\n",
    "            calories = elf_rations.get(count)\n",
    "            calories = list(calories)\n",
    "            calories.append(int(line))\n",
    "            elf_rations[count] = calories\n",
    "            readback.append(line)\n",
    "        except:\n",
    "            try:\n",
    "                calories =int(line)\n",
    "                elf_rations[count] = calories\n",
    "                readback.append('test')\n",
    "            except:\n",
    "                calories = line\n",
    "                elf_rations[count] = calories\n",
    "                readback.append('test')\n",
    "    else:\n",
    "        try:\n",
    "            count +=1\n",
    "            calories=int(line)\n",
    "            elf_rations[count] = calories\n",
    "            readback.append(line)\n",
    "        except:\n",
    "            calories= line\n",
    "            elf_rations[count] = calories\n",
    "            readback.append(line)\n",
    "\n",
    "TotalElfRations = {}\n",
    "\n",
    "for elf in elf_rations.keys():\n",
    "    rations = elf_rations.get(elf)\n",
    "    rations[0] = 0\n",
    "    rations = sum(rations)\n",
    "    TotalElfRations[elf] = rations\n",
    "\n",
    "    \n",
    "print('The elf carrying the most calories caries:', TotalElfRations.get(max(TotalElfRations, key=TotalElfRations.get)), 'calories')\n"
   ]
  },
  {
   "cell_type": "markdown",
   "metadata": {},
   "source": [
    "### Part 2. The total calories carried by the top n elves"
   ]
  },
  {
   "cell_type": "code",
   "execution_count": 191,
   "metadata": {},
   "outputs": [
    {
     "name": "stdout",
     "output_type": "stream",
     "text": [
      "the total calories carried by the top 3 elves is/are: 211447\n"
     ]
    }
   ],
   "source": [
    "elves = 3\n",
    "n = elves\n",
    "RationDict = {}\n",
    "\n",
    "\n",
    "while n != 0:\n",
    "    elf = max(TotalElfRations, key=TotalElfRations.get)\n",
    "    ration = TotalElfRations.get(max(TotalElfRations, key=TotalElfRations.get))\n",
    "    TotalElfRations.pop(elf)\n",
    "    RationDict[elf] = ration\n",
    "    n -= 1\n",
    "print('the total calories carried by the top', elves, 'elves is/are:', sum(RationDict.values()))"
   ]
  },
  {
   "cell_type": "markdown",
   "metadata": {},
   "source": [
    "# December 2"
   ]
  },
  {
   "cell_type": "markdown",
   "metadata": {},
   "source": [
    "### Part 1: What is the cumulative score X=rock, Y=paper, Z=scisor"
   ]
  },
  {
   "cell_type": "code",
   "execution_count": 38,
   "metadata": {},
   "outputs": [],
   "source": [
    "import pandas as pd\n",
    "games = pd.read_csv('Day2.txt', delimiter=' ', header=None)\n",
    "matches = {'A':'X', 'B': 'Y', 'C': 'Z'}\n",
    "loser = {'A':'Z', 'B': 'X', 'C': 'Y'}\n",
    "points = {'X':1, 'Y': 2, 'Z':3}\n",
    "actual = {'X' = 0, 'Y' = 3, 'Z' = 6}\n",
    "outcome = []\n",
    "for i in games.iterrows():\n",
    "    opponent = i[1][0]\n",
    "    us = i[1][1]\n",
    "    if matches.get(opponent) == us:\n",
    "        outcome.append(3)\n",
    "    elif loser.get(i[1][0]) == us:\n",
    "        outcome.append(0)\n",
    "    else:\n",
    "        outcome.append(6)\n",
    "\n",
    "games['Outcome'] = outcome\n",
    "throws = list(games[1])\n",
    "wagers = [points.get(throw) for throw in throws]\n",
    "games['Wagers'] = wagers\n",
    "games['Net'] = games['Outcome'] + games ['Wagers']"
   ]
  },
  {
   "cell_type": "code",
   "execution_count": 40,
   "metadata": {},
   "outputs": [
    {
     "name": "stdout",
     "output_type": "stream",
     "text": [
      "My net score after all rounds is: 12535\n"
     ]
    }
   ],
   "source": [
    "print('My net score after all rounds is:',sum(list(games.Net)))"
   ]
  },
  {
   "cell_type": "markdown",
   "metadata": {},
   "source": [
    "### Part 2: rule change X=lose, Y=draw, Z=win"
   ]
  },
  {
   "cell_type": "code",
   "execution_count": 78,
   "metadata": {},
   "outputs": [],
   "source": [
    "games = pd.read_csv('Day2.txt', delimiter=' ', header=None)\n",
    "actual = {'X': 0, 'Y' : 3, 'Z' : 6}\n",
    "beats = {'A': 'C', 'B':'A', 'C': 'B'}\n",
    "loses = {'C': 'A', 'A':'B', 'B': 'C'}\n",
    "pts = {'A':1, 'B': 2, 'C': 3}\n",
    "outcome = []\n",
    "choices = []\n",
    "wagers = []\n",
    "for i in games.iterrows():\n",
    "    opponent = i[1][0]\n",
    "    us = i[1][1]\n",
    "    status = actual.get(us)\n",
    "    outcome.append(status)\n",
    "    if status == 0:\n",
    "        choice = beats.get(opponent)\n",
    "        choices.append(choice)\n",
    "        wager = pts.get(choice)\n",
    "        wagers.append(wager)\n",
    "    elif status == 3:\n",
    "        choice = opponent\n",
    "        choices.append(choice)\n",
    "        wager = pts.get(choice)\n",
    "        wagers.append(wager)\n",
    "    else:\n",
    "        choice = loses.get(opponent)\n",
    "        choices.append(choice)\n",
    "        wager = pts.get(choice)\n",
    "        wagers.append(wager)\n",
    "games['outcome']= outcome\n",
    "games['choice'] = choices\n",
    "games['wager'] = wagers\n",
    "games['NetTotal'] = games.outcome+games.wager"
   ]
  },
  {
   "cell_type": "code",
   "execution_count": 80,
   "metadata": {},
   "outputs": [
    {
     "name": "stdout",
     "output_type": "stream",
     "text": [
      "our new net score (after the rule change) is: 15457\n"
     ]
    }
   ],
   "source": [
    "print('our new net score (after the rule change) is:',sum(list(games.NetTotal)))"
   ]
  }
 ],
 "metadata": {
  "kernelspec": {
   "display_name": "Python 3.9.13 ('base')",
   "language": "python",
   "name": "python3"
  },
  "language_info": {
   "codemirror_mode": {
    "name": "ipython",
    "version": 3
   },
   "file_extension": ".py",
   "mimetype": "text/x-python",
   "name": "python",
   "nbconvert_exporter": "python",
   "pygments_lexer": "ipython3",
   "version": "3.9.13"
  },
  "orig_nbformat": 4,
  "vscode": {
   "interpreter": {
    "hash": "b169066c53d3b02e55c0355bc483c347351cbe20a03b502bbeddcbe337d0d727"
   }
  }
 },
 "nbformat": 4,
 "nbformat_minor": 2
}
